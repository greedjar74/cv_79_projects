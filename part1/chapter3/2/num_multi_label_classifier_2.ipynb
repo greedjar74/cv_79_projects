{
 "cells": [
  {
   "cell_type": "markdown",
   "metadata": {},
   "source": [
    "# 숫자 멀티 라벨 분류"
   ]
  },
  {
   "cell_type": "code",
   "execution_count": 1,
   "metadata": {},
   "outputs": [],
   "source": [
    "import pandas as pd\n",
    "import numpy as np\n",
    "import matplotlib.pyplot as plt\n",
    "import random\n",
    "import os\n",
    "import glob\n",
    "from PIL import Image\n",
    "from tqdm.notebook import tqdm\n",
    "\n",
    "import torch\n",
    "import torchvision.transforms as T\n",
    "import timm\n",
    "\n",
    "from sklearn.metrics import f1_score"
   ]
  },
  {
   "cell_type": "code",
   "execution_count": 2,
   "metadata": {},
   "outputs": [],
   "source": [
    "# 시드를 고정합니다.\n",
    "SEED = 42\n",
    "os.environ['PYTHONHASHSEED'] = str(SEED)\n",
    "random.seed(SEED)\n",
    "np.random.seed(SEED)\n",
    "torch.manual_seed(SEED)\n",
    "torch.cuda.manual_seed(SEED)\n",
    "torch.cuda.manual_seed_all(SEED)\n",
    "torch.backends.cudnn.benchmark = True\n",
    "\n",
    "device = 'mps'"
   ]
  },
  {
   "cell_type": "markdown",
   "metadata": {},
   "source": [
    "# annotation"
   ]
  },
  {
   "cell_type": "code",
   "execution_count": 3,
   "metadata": {},
   "outputs": [
    {
     "data": {
      "text/html": [
       "<div>\n",
       "<style scoped>\n",
       "    .dataframe tbody tr th:only-of-type {\n",
       "        vertical-align: middle;\n",
       "    }\n",
       "\n",
       "    .dataframe tbody tr th {\n",
       "        vertical-align: top;\n",
       "    }\n",
       "\n",
       "    .dataframe thead th {\n",
       "        text-align: right;\n",
       "    }\n",
       "</style>\n",
       "<table border=\"1\" class=\"dataframe\">\n",
       "  <thead>\n",
       "    <tr style=\"text-align: right;\">\n",
       "      <th></th>\n",
       "      <th>filename</th>\n",
       "      <th>filepath</th>\n",
       "      <th>classes</th>\n",
       "    </tr>\n",
       "  </thead>\n",
       "  <tbody>\n",
       "    <tr>\n",
       "      <th>0</th>\n",
       "      <td>image_26645.jpg</td>\n",
       "      <td>images/image_26645.jpg</td>\n",
       "      <td>[3, 5]</td>\n",
       "    </tr>\n",
       "    <tr>\n",
       "      <th>1</th>\n",
       "      <td>image_24828.jpg</td>\n",
       "      <td>images/image_24828.jpg</td>\n",
       "      <td>[1, 3]</td>\n",
       "    </tr>\n",
       "    <tr>\n",
       "      <th>2</th>\n",
       "      <td>image_12280.jpg</td>\n",
       "      <td>images/image_12280.jpg</td>\n",
       "      <td>[4, 0]</td>\n",
       "    </tr>\n",
       "    <tr>\n",
       "      <th>3</th>\n",
       "      <td>image_7446.jpg</td>\n",
       "      <td>images/image_7446.jpg</td>\n",
       "      <td>[9, 5]</td>\n",
       "    </tr>\n",
       "    <tr>\n",
       "      <th>4</th>\n",
       "      <td>image_15460.jpg</td>\n",
       "      <td>images/image_15460.jpg</td>\n",
       "      <td>[2]</td>\n",
       "    </tr>\n",
       "    <tr>\n",
       "      <th>...</th>\n",
       "      <td>...</td>\n",
       "      <td>...</td>\n",
       "      <td>...</td>\n",
       "    </tr>\n",
       "    <tr>\n",
       "      <th>1995</th>\n",
       "      <td>image_22670.jpg</td>\n",
       "      <td>images/image_22670.jpg</td>\n",
       "      <td>[6, 1]</td>\n",
       "    </tr>\n",
       "    <tr>\n",
       "      <th>1996</th>\n",
       "      <td>image_4461.jpg</td>\n",
       "      <td>images/image_4461.jpg</td>\n",
       "      <td>[8, 2]</td>\n",
       "    </tr>\n",
       "    <tr>\n",
       "      <th>1997</th>\n",
       "      <td>image_29189.jpg</td>\n",
       "      <td>images/image_29189.jpg</td>\n",
       "      <td>[2, 6]</td>\n",
       "    </tr>\n",
       "    <tr>\n",
       "      <th>1998</th>\n",
       "      <td>image_15688.jpg</td>\n",
       "      <td>images/image_15688.jpg</td>\n",
       "      <td>[4, 1]</td>\n",
       "    </tr>\n",
       "    <tr>\n",
       "      <th>1999</th>\n",
       "      <td>image_19005.jpg</td>\n",
       "      <td>images/image_19005.jpg</td>\n",
       "      <td>[0, 9]</td>\n",
       "    </tr>\n",
       "  </tbody>\n",
       "</table>\n",
       "<p>2000 rows × 3 columns</p>\n",
       "</div>"
      ],
      "text/plain": [
       "             filename                filepath classes\n",
       "0     image_26645.jpg  images/image_26645.jpg  [3, 5]\n",
       "1     image_24828.jpg  images/image_24828.jpg  [1, 3]\n",
       "2     image_12280.jpg  images/image_12280.jpg  [4, 0]\n",
       "3      image_7446.jpg   images/image_7446.jpg  [9, 5]\n",
       "4     image_15460.jpg  images/image_15460.jpg     [2]\n",
       "...               ...                     ...     ...\n",
       "1995  image_22670.jpg  images/image_22670.jpg  [6, 1]\n",
       "1996   image_4461.jpg   images/image_4461.jpg  [8, 2]\n",
       "1997  image_29189.jpg  images/image_29189.jpg  [2, 6]\n",
       "1998  image_15688.jpg  images/image_15688.jpg  [4, 1]\n",
       "1999  image_19005.jpg  images/image_19005.jpg  [0, 9]\n",
       "\n",
       "[2000 rows x 3 columns]"
      ]
     },
     "execution_count": 3,
     "metadata": {},
     "output_type": "execute_result"
    }
   ],
   "source": [
    "annot_df = pd.read_csv('/Users/kimhongseok/cv_79_projects/part1/chapter3/2/data/annotations.csv')\n",
    "annot_df"
   ]
  },
  {
   "cell_type": "code",
   "execution_count": 4,
   "metadata": {},
   "outputs": [
    {
     "data": {
      "text/plain": [
       "['[3, 5]',\n",
       " '[1, 3]',\n",
       " '[4, 0]',\n",
       " '[9, 5]',\n",
       " '[2]',\n",
       " '[1]',\n",
       " '[7, 0]',\n",
       " '[0, 1]',\n",
       " '[4, 7]',\n",
       " '[5, 2]',\n",
       " '[4, 0]',\n",
       " '[5, 0]',\n",
       " '[2, 8]',\n",
       " '[4, 2]',\n",
       " '[3, 8]',\n",
       " '[2, 9]',\n",
       " '[2, 1]',\n",
       " '[5, 2]',\n",
       " '[5, 3]',\n",
       " '[5, 7]',\n",
       " '[0, 8]',\n",
       " '[9, 3]',\n",
       " '[0, 1]',\n",
       " '[1]',\n",
       " '[2, 3]',\n",
       " '[9, 0]',\n",
       " '[2, 3]',\n",
       " '[8, 0]',\n",
       " '[2, 9]',\n",
       " '[2, 9]',\n",
       " '[0, 8]',\n",
       " '[1, 3]',\n",
       " '[4, 5]',\n",
       " '[4, 9]',\n",
       " '[3, 7]',\n",
       " '[2, 9]',\n",
       " '[8, 7]',\n",
       " '[0, 1]',\n",
       " '[2, 0]',\n",
       " '[7, 1]',\n",
       " '[8, 4]',\n",
       " '[3, 4]',\n",
       " '[5, 4]',\n",
       " '[5, 0]',\n",
       " '[8, 4]',\n",
       " '[9, 6]',\n",
       " '[2, 7]',\n",
       " '[1, 9]',\n",
       " '[4, 0]',\n",
       " '[1, 7]',\n",
       " '[0]',\n",
       " '[7, 8]',\n",
       " '[1, 0]',\n",
       " '[4, 3]',\n",
       " '[8, 3]',\n",
       " '[4, 5]',\n",
       " '[5, 0]',\n",
       " '[3, 4]',\n",
       " '[6, 0]',\n",
       " '[2, 1]',\n",
       " '[7, 9]',\n",
       " '[9, 2]',\n",
       " '[9, 5]',\n",
       " '[5]',\n",
       " '[2, 4]',\n",
       " '[5, 2]',\n",
       " '[2, 1]',\n",
       " '[9, 1]',\n",
       " '[8, 1]',\n",
       " '[5, 2]',\n",
       " '[6, 2]',\n",
       " '[9, 7]',\n",
       " '[4, 6]',\n",
       " '[9, 2]',\n",
       " '[7, 2]',\n",
       " '[4, 7]',\n",
       " '[0, 6]',\n",
       " '[6, 3]',\n",
       " '[6, 1]',\n",
       " '[8]',\n",
       " '[1, 4]',\n",
       " '[1]',\n",
       " '[7, 2]',\n",
       " '[1, 8]',\n",
       " '[8, 7]',\n",
       " '[4, 5]',\n",
       " '[6, 4]',\n",
       " '[1, 4]',\n",
       " '[8, 1]',\n",
       " '[9, 3]',\n",
       " '[8, 4]',\n",
       " '[0, 5]',\n",
       " '[6, 9]',\n",
       " '[0, 3]',\n",
       " '[2]',\n",
       " '[7, 8]',\n",
       " '[3, 6]',\n",
       " '[2, 1]',\n",
       " '[3, 5]',\n",
       " '[9, 2]',\n",
       " '[7, 5]',\n",
       " '[4, 5]',\n",
       " '[4, 0]',\n",
       " '[4, 6]',\n",
       " '[9]',\n",
       " '[1, 6]',\n",
       " '[6, 3]',\n",
       " '[1, 0]',\n",
       " '[4]',\n",
       " '[6, 9]',\n",
       " '[3, 6]',\n",
       " '[1, 8]',\n",
       " '[3, 4]',\n",
       " '[6, 1]',\n",
       " '[0, 6]',\n",
       " '[6, 8]',\n",
       " '[7, 1]',\n",
       " '[1, 6]',\n",
       " '[2]',\n",
       " '[8, 7]',\n",
       " '[4, 7]',\n",
       " '[9, 6]',\n",
       " '[0, 1]',\n",
       " '[3, 0]',\n",
       " '[8, 1]',\n",
       " '[7, 0]',\n",
       " '[6, 9]',\n",
       " '[8, 9]',\n",
       " '[2, 0]',\n",
       " '[2, 5]',\n",
       " '[6, 8]',\n",
       " '[2, 6]',\n",
       " '[7, 0]',\n",
       " '[2, 1]',\n",
       " '[2, 4]',\n",
       " '[4, 3]',\n",
       " '[1, 2]',\n",
       " '[9, 1]',\n",
       " '[7, 9]',\n",
       " '[1, 9]',\n",
       " '[0, 2]',\n",
       " '[9, 8]',\n",
       " '[5, 0]',\n",
       " '[7, 5]',\n",
       " '[6, 8]',\n",
       " '[7, 6]',\n",
       " '[9, 4]',\n",
       " '[6, 8]',\n",
       " '[0, 4]',\n",
       " '[5, 1]',\n",
       " '[1, 6]',\n",
       " '[5, 3]',\n",
       " '[9, 2]',\n",
       " '[9, 6]',\n",
       " '[2, 0]',\n",
       " '[3, 2]',\n",
       " '[4, 8]',\n",
       " '[7, 8]',\n",
       " '[8, 1]',\n",
       " '[5, 7]',\n",
       " '[0, 6]',\n",
       " '[3]',\n",
       " '[2, 0]',\n",
       " '[6, 1]',\n",
       " '[8, 9]',\n",
       " '[4, 7]',\n",
       " '[7, 3]',\n",
       " '[6, 2]',\n",
       " '[8, 4]',\n",
       " '[5, 6]',\n",
       " '[7, 0]',\n",
       " '[4, 1]',\n",
       " '[8, 6]',\n",
       " '[5, 1]',\n",
       " '[5]',\n",
       " '[7, 3]',\n",
       " '[6, 0]',\n",
       " '[5, 3]',\n",
       " '[8, 7]',\n",
       " '[8, 5]',\n",
       " '[6, 3]',\n",
       " '[5, 9]',\n",
       " '[6, 4]',\n",
       " '[0, 7]',\n",
       " '[0, 6]',\n",
       " '[8, 6]',\n",
       " '[6, 4]',\n",
       " '[1, 3]',\n",
       " '[9, 2]',\n",
       " '[6, 0]',\n",
       " '[2]',\n",
       " '[5, 6]',\n",
       " '[4, 7]',\n",
       " '[0, 8]',\n",
       " '[0]',\n",
       " '[4, 0]',\n",
       " '[1, 4]',\n",
       " '[1, 2]',\n",
       " '[2, 7]',\n",
       " '[6, 5]',\n",
       " '[0, 6]',\n",
       " '[5, 3]',\n",
       " '[7, 1]',\n",
       " '[7, 1]',\n",
       " '[4]',\n",
       " '[1, 7]',\n",
       " '[1, 8]',\n",
       " '[2, 6]',\n",
       " '[0, 3]',\n",
       " '[9, 4]',\n",
       " '[5, 9]',\n",
       " '[4, 9]',\n",
       " '[0, 3]',\n",
       " '[8, 9]',\n",
       " '[0, 5]',\n",
       " '[6, 4]',\n",
       " '[0, 8]',\n",
       " '[1, 2]',\n",
       " '[0, 9]',\n",
       " '[8, 3]',\n",
       " '[8]',\n",
       " '[0, 2]',\n",
       " '[9, 2]',\n",
       " '[3]',\n",
       " '[5, 9]',\n",
       " '[5, 1]',\n",
       " '[9]',\n",
       " '[7, 0]',\n",
       " '[6, 3]',\n",
       " '[2, 1]',\n",
       " '[9, 5]',\n",
       " '[2, 4]',\n",
       " '[7, 8]',\n",
       " '[1, 9]',\n",
       " '[2, 6]',\n",
       " '[7, 8]',\n",
       " '[4, 0]',\n",
       " '[3, 1]',\n",
       " '[7, 9]',\n",
       " '[0, 1]',\n",
       " '[3]',\n",
       " '[0, 9]',\n",
       " '[4, 2]',\n",
       " '[0, 1]',\n",
       " '[2, 4]',\n",
       " '[3, 5]',\n",
       " '[2, 4]',\n",
       " '[9, 1]',\n",
       " '[5, 2]',\n",
       " '[2, 8]',\n",
       " '[5, 3]',\n",
       " '[0, 2]',\n",
       " '[6, 5]',\n",
       " '[2, 0]',\n",
       " '[8, 0]',\n",
       " '[7, 1]',\n",
       " '[3]',\n",
       " '[6, 5]',\n",
       " '[6, 4]',\n",
       " '[4, 2]',\n",
       " '[0, 6]',\n",
       " '[1]',\n",
       " '[9, 3]',\n",
       " '[0]',\n",
       " '[9, 3]',\n",
       " '[5, 8]',\n",
       " '[3, 8]',\n",
       " '[9, 6]',\n",
       " '[5, 6]',\n",
       " '[6, 7]',\n",
       " '[2, 5]',\n",
       " '[7, 4]',\n",
       " '[1, 3]',\n",
       " '[5, 6]',\n",
       " '[2, 7]',\n",
       " '[1, 9]',\n",
       " '[1, 8]',\n",
       " '[8, 0]',\n",
       " '[3, 9]',\n",
       " '[3, 8]',\n",
       " '[2, 3]',\n",
       " '[6, 3]',\n",
       " '[6, 1]',\n",
       " '[8, 3]',\n",
       " '[4, 3]',\n",
       " '[3, 8]',\n",
       " '[9, 2]',\n",
       " '[7, 0]',\n",
       " '[7, 2]',\n",
       " '[3, 4]',\n",
       " '[7, 1]',\n",
       " '[3, 2]',\n",
       " '[9, 5]',\n",
       " '[3, 4]',\n",
       " '[9, 2]',\n",
       " '[9, 0]',\n",
       " '[0, 4]',\n",
       " '[9, 1]',\n",
       " '[9, 0]',\n",
       " '[6, 1]',\n",
       " '[6, 0]',\n",
       " '[2, 0]',\n",
       " '[7, 3]',\n",
       " '[3, 2]',\n",
       " '[2, 8]',\n",
       " '[6]',\n",
       " '[9, 3]',\n",
       " '[5, 4]',\n",
       " '[7, 9]',\n",
       " '[0, 4]',\n",
       " '[4, 7]',\n",
       " '[3, 9]',\n",
       " '[4, 5]',\n",
       " '[8, 6]',\n",
       " '[2, 1]',\n",
       " '[0, 9]',\n",
       " '[6, 7]',\n",
       " '[4, 5]',\n",
       " '[9, 3]',\n",
       " '[9, 7]',\n",
       " '[6, 1]',\n",
       " '[4, 9]',\n",
       " '[7, 1]',\n",
       " '[3, 5]',\n",
       " '[2, 9]',\n",
       " '[3, 2]',\n",
       " '[2, 6]',\n",
       " '[6, 0]',\n",
       " '[3, 0]',\n",
       " '[7]',\n",
       " '[0]',\n",
       " '[3, 2]',\n",
       " '[9, 4]',\n",
       " '[2]',\n",
       " '[2, 3]',\n",
       " '[4, 2]',\n",
       " '[7, 0]',\n",
       " '[2, 3]',\n",
       " '[1]',\n",
       " '[6, 9]',\n",
       " '[2, 9]',\n",
       " '[3, 8]',\n",
       " '[9, 0]',\n",
       " '[7]',\n",
       " '[0]',\n",
       " '[9, 7]',\n",
       " '[1, 0]',\n",
       " '[3, 2]',\n",
       " '[4, 1]',\n",
       " '[7, 2]',\n",
       " '[3, 0]',\n",
       " '[2, 4]',\n",
       " '[5, 9]',\n",
       " '[4, 0]',\n",
       " '[4, 3]',\n",
       " '[3, 6]',\n",
       " '[4, 8]',\n",
       " '[2]',\n",
       " '[9]',\n",
       " '[1, 7]',\n",
       " '[9, 7]',\n",
       " '[0, 5]',\n",
       " '[6, 2]',\n",
       " '[1, 0]',\n",
       " '[2, 9]',\n",
       " '[8, 6]',\n",
       " '[7, 5]',\n",
       " '[1, 6]',\n",
       " '[3, 1]',\n",
       " '[8, 9]',\n",
       " '[3, 2]',\n",
       " '[7, 6]',\n",
       " '[3, 2]',\n",
       " '[8]',\n",
       " '[2, 9]',\n",
       " '[5, 0]',\n",
       " '[1, 7]',\n",
       " '[4, 5]',\n",
       " '[5]',\n",
       " '[5, 9]',\n",
       " '[4, 1]',\n",
       " '[9]',\n",
       " '[0, 1]',\n",
       " '[3, 2]',\n",
       " '[4, 6]',\n",
       " '[4, 1]',\n",
       " '[1, 4]',\n",
       " '[2, 1]',\n",
       " '[7, 8]',\n",
       " '[9, 7]',\n",
       " '[9, 7]',\n",
       " '[1, 9]',\n",
       " '[6, 3]',\n",
       " '[0, 5]',\n",
       " '[6, 3]',\n",
       " '[4, 6]',\n",
       " '[0, 8]',\n",
       " '[2, 1]',\n",
       " '[3, 2]',\n",
       " '[7, 4]',\n",
       " '[2, 8]',\n",
       " '[4, 0]',\n",
       " '[7, 8]',\n",
       " '[8, 5]',\n",
       " '[7, 3]',\n",
       " '[9, 4]',\n",
       " '[1, 7]',\n",
       " '[2, 4]',\n",
       " '[7, 8]',\n",
       " '[1, 0]',\n",
       " '[1, 8]',\n",
       " '[0, 4]',\n",
       " '[6, 3]',\n",
       " '[2, 1]',\n",
       " '[7, 6]',\n",
       " '[0, 8]',\n",
       " '[7, 5]',\n",
       " '[4, 5]',\n",
       " '[9]',\n",
       " '[6, 0]',\n",
       " '[0, 6]',\n",
       " '[7, 1]',\n",
       " '[6]',\n",
       " '[7, 5]',\n",
       " '[6]',\n",
       " '[8, 2]',\n",
       " '[7]',\n",
       " '[5, 3]',\n",
       " '[2, 8]',\n",
       " '[0, 2]',\n",
       " '[5, 1]',\n",
       " '[9]',\n",
       " '[2]',\n",
       " '[7, 8]',\n",
       " '[4, 6]',\n",
       " '[3]',\n",
       " '[0, 9]',\n",
       " '[6, 2]',\n",
       " '[5, 0]',\n",
       " '[2, 9]',\n",
       " '[5, 3]',\n",
       " '[2, 1]',\n",
       " '[7, 8]',\n",
       " '[7, 5]',\n",
       " '[2, 0]',\n",
       " '[0, 9]',\n",
       " '[6, 9]',\n",
       " '[8, 0]',\n",
       " '[7, 4]',\n",
       " '[9, 2]',\n",
       " '[7]',\n",
       " '[6, 9]',\n",
       " '[0, 5]',\n",
       " '[5, 7]',\n",
       " '[3, 7]',\n",
       " '[0, 8]',\n",
       " '[4, 0]',\n",
       " '[0, 2]',\n",
       " '[0, 3]',\n",
       " '[9, 4]',\n",
       " '[9, 7]',\n",
       " '[5, 8]',\n",
       " '[6, 8]',\n",
       " '[0, 1]',\n",
       " '[0, 8]',\n",
       " '[7, 5]',\n",
       " '[1, 4]',\n",
       " '[7, 1]',\n",
       " '[4, 2]',\n",
       " '[2, 5]',\n",
       " '[0, 2]',\n",
       " '[0, 8]',\n",
       " '[1]',\n",
       " '[4]',\n",
       " '[3, 2]',\n",
       " '[7, 2]',\n",
       " '[8, 0]',\n",
       " '[8, 7]',\n",
       " '[5, 4]',\n",
       " '[5, 6]',\n",
       " '[2, 4]',\n",
       " '[4, 7]',\n",
       " '[6, 5]',\n",
       " '[3, 0]',\n",
       " '[6, 0]',\n",
       " '[8, 3]',\n",
       " '[0, 8]',\n",
       " '[8]',\n",
       " '[0]',\n",
       " '[2, 4]',\n",
       " '[6, 2]',\n",
       " '[6, 4]',\n",
       " '[7, 5]',\n",
       " '[3, 4]',\n",
       " '[4, 0]',\n",
       " '[5, 7]',\n",
       " '[2, 9]',\n",
       " '[9, 8]',\n",
       " '[3, 8]',\n",
       " '[8, 7]',\n",
       " '[1]',\n",
       " '[9, 6]',\n",
       " '[4, 6]',\n",
       " '[4, 9]',\n",
       " '[1, 6]',\n",
       " '[9, 1]',\n",
       " '[0, 8]',\n",
       " '[8, 1]',\n",
       " '[3, 5]',\n",
       " '[4, 1]',\n",
       " '[3, 6]',\n",
       " '[2, 7]',\n",
       " '[6, 2]',\n",
       " '[7, 1]',\n",
       " '[5]',\n",
       " '[4, 8]',\n",
       " '[2, 5]',\n",
       " '[1, 4]',\n",
       " '[7, 4]',\n",
       " '[0, 1]',\n",
       " '[1, 9]',\n",
       " '[7, 3]',\n",
       " '[8, 7]',\n",
       " '[6, 7]',\n",
       " '[1, 2]',\n",
       " '[3, 6]',\n",
       " '[1, 9]',\n",
       " '[2, 9]',\n",
       " '[1, 8]',\n",
       " '[0, 7]',\n",
       " '[4, 8]',\n",
       " '[0]',\n",
       " '[0, 1]',\n",
       " '[5, 6]',\n",
       " '[1, 0]',\n",
       " '[8, 7]',\n",
       " '[5, 8]',\n",
       " '[9]',\n",
       " '[8, 5]',\n",
       " '[7, 8]',\n",
       " '[2]',\n",
       " '[6, 7]',\n",
       " '[7, 4]',\n",
       " '[7]',\n",
       " '[1, 8]',\n",
       " '[5, 2]',\n",
       " '[1, 0]',\n",
       " '[8, 9]',\n",
       " '[1, 6]',\n",
       " '[8, 9]',\n",
       " '[1, 6]',\n",
       " '[4, 8]',\n",
       " '[2, 8]',\n",
       " '[4, 3]',\n",
       " '[6, 5]',\n",
       " '[0, 2]',\n",
       " '[8, 7]',\n",
       " '[1, 6]',\n",
       " '[2, 6]',\n",
       " '[9]',\n",
       " '[1, 5]',\n",
       " '[4]',\n",
       " '[4, 7]',\n",
       " '[1, 9]',\n",
       " '[1, 9]',\n",
       " '[5, 8]',\n",
       " '[7]',\n",
       " '[5, 9]',\n",
       " '[9, 5]',\n",
       " '[1, 8]',\n",
       " '[0, 8]',\n",
       " '[9, 7]',\n",
       " '[9, 0]',\n",
       " '[1, 6]',\n",
       " '[4, 7]',\n",
       " '[9]',\n",
       " '[1, 6]',\n",
       " '[8, 9]',\n",
       " '[1, 7]',\n",
       " '[5]',\n",
       " '[2, 8]',\n",
       " '[3, 7]',\n",
       " '[9, 8]',\n",
       " '[5, 0]',\n",
       " '[0, 4]',\n",
       " '[5, 2]',\n",
       " '[8, 9]',\n",
       " '[6, 4]',\n",
       " '[8, 7]',\n",
       " '[0, 9]',\n",
       " '[0, 9]',\n",
       " '[1]',\n",
       " '[7, 8]',\n",
       " '[6, 4]',\n",
       " '[7, 5]',\n",
       " '[1, 0]',\n",
       " '[4]',\n",
       " '[8, 5]',\n",
       " '[3, 0]',\n",
       " '[6]',\n",
       " '[6, 1]',\n",
       " '[1, 2]',\n",
       " '[0, 2]',\n",
       " '[8, 4]',\n",
       " '[8, 9]',\n",
       " '[0, 8]',\n",
       " '[3, 7]',\n",
       " '[8, 2]',\n",
       " '[6, 9]',\n",
       " '[3, 9]',\n",
       " '[5, 9]',\n",
       " '[9, 7]',\n",
       " '[9, 3]',\n",
       " '[6, 5]',\n",
       " '[3, 4]',\n",
       " '[1, 0]',\n",
       " '[6]',\n",
       " '[3, 1]',\n",
       " '[9, 0]',\n",
       " '[9, 0]',\n",
       " '[1, 9]',\n",
       " '[6, 0]',\n",
       " '[5, 7]',\n",
       " '[5, 0]',\n",
       " '[9, 7]',\n",
       " '[7, 5]',\n",
       " '[1, 9]',\n",
       " '[0, 5]',\n",
       " '[9, 6]',\n",
       " '[1, 6]',\n",
       " '[3, 2]',\n",
       " '[2, 7]',\n",
       " '[3, 5]',\n",
       " '[2, 1]',\n",
       " '[2, 7]',\n",
       " '[3, 4]',\n",
       " '[7, 6]',\n",
       " '[3, 4]',\n",
       " '[1, 4]',\n",
       " '[7]',\n",
       " '[2, 7]',\n",
       " '[7, 3]',\n",
       " '[7, 8]',\n",
       " '[3, 9]',\n",
       " '[3, 7]',\n",
       " '[2, 1]',\n",
       " '[3, 1]',\n",
       " '[8, 0]',\n",
       " '[7, 5]',\n",
       " '[5, 3]',\n",
       " '[1, 7]',\n",
       " '[0, 9]',\n",
       " '[2, 4]',\n",
       " '[8, 6]',\n",
       " '[4]',\n",
       " '[4, 1]',\n",
       " '[8, 2]',\n",
       " '[0, 6]',\n",
       " '[2, 1]',\n",
       " '[0, 6]',\n",
       " '[3, 1]',\n",
       " '[2, 8]',\n",
       " '[1, 2]',\n",
       " '[6, 1]',\n",
       " '[9, 5]',\n",
       " '[1, 3]',\n",
       " '[6, 7]',\n",
       " '[0, 9]',\n",
       " '[4, 2]',\n",
       " '[9, 4]',\n",
       " '[1]',\n",
       " '[0]',\n",
       " '[2, 9]',\n",
       " '[6, 8]',\n",
       " '[8, 3]',\n",
       " '[1, 9]',\n",
       " '[8, 0]',\n",
       " '[1, 5]',\n",
       " '[1, 2]',\n",
       " '[1, 9]',\n",
       " '[6, 7]',\n",
       " '[0, 4]',\n",
       " '[2, 5]',\n",
       " '[3, 8]',\n",
       " '[1, 2]',\n",
       " '[3, 1]',\n",
       " '[9, 3]',\n",
       " '[5, 1]',\n",
       " '[3, 7]',\n",
       " '[9, 0]',\n",
       " '[4, 7]',\n",
       " '[0, 1]',\n",
       " '[6, 1]',\n",
       " '[8, 3]',\n",
       " '[3, 7]',\n",
       " '[7, 0]',\n",
       " '[6, 7]',\n",
       " '[7, 2]',\n",
       " '[4, 8]',\n",
       " '[3]',\n",
       " '[6, 0]',\n",
       " '[9, 6]',\n",
       " '[1]',\n",
       " '[6]',\n",
       " '[8]',\n",
       " '[1, 3]',\n",
       " '[1, 5]',\n",
       " '[6, 4]',\n",
       " '[7, 1]',\n",
       " '[4, 3]',\n",
       " '[0, 4]',\n",
       " '[2]',\n",
       " '[5, 4]',\n",
       " '[9, 5]',\n",
       " '[5, 2]',\n",
       " '[5, 6]',\n",
       " '[9, 2]',\n",
       " '[9, 1]',\n",
       " '[5, 9]',\n",
       " '[5, 1]',\n",
       " '[5, 8]',\n",
       " '[0, 6]',\n",
       " '[1, 8]',\n",
       " '[7, 9]',\n",
       " '[5, 1]',\n",
       " '[1, 9]',\n",
       " '[6, 2]',\n",
       " '[0, 2]',\n",
       " '[1, 3]',\n",
       " '[4, 9]',\n",
       " '[2, 9]',\n",
       " '[5, 7]',\n",
       " '[8]',\n",
       " '[9, 3]',\n",
       " '[2, 4]',\n",
       " '[6, 5]',\n",
       " '[7, 1]',\n",
       " '[8, 0]',\n",
       " '[3, 7]',\n",
       " '[9, 6]',\n",
       " '[1, 3]',\n",
       " '[2, 0]',\n",
       " '[6, 4]',\n",
       " '[5, 0]',\n",
       " '[5]',\n",
       " '[2, 3]',\n",
       " '[5, 8]',\n",
       " '[1, 0]',\n",
       " '[2, 5]',\n",
       " '[0]',\n",
       " '[4, 5]',\n",
       " '[4, 8]',\n",
       " '[3, 9]',\n",
       " '[0, 7]',\n",
       " '[5, 6]',\n",
       " '[9, 7]',\n",
       " '[5]',\n",
       " '[9, 8]',\n",
       " '[9, 2]',\n",
       " '[1, 2]',\n",
       " '[2, 1]',\n",
       " '[6, 7]',\n",
       " '[6, 1]',\n",
       " '[3, 7]',\n",
       " '[1, 6]',\n",
       " '[8, 9]',\n",
       " '[6, 7]',\n",
       " '[9, 5]',\n",
       " '[2, 0]',\n",
       " '[8, 9]',\n",
       " '[2, 4]',\n",
       " '[1, 5]',\n",
       " '[0, 3]',\n",
       " '[7, 3]',\n",
       " '[2, 6]',\n",
       " '[8, 0]',\n",
       " '[2]',\n",
       " '[7, 6]',\n",
       " '[0, 1]',\n",
       " '[1]',\n",
       " '[3, 0]',\n",
       " '[7, 1]',\n",
       " '[6, 4]',\n",
       " '[8, 0]',\n",
       " '[4, 8]',\n",
       " '[4, 9]',\n",
       " '[8, 4]',\n",
       " '[5, 6]',\n",
       " '[6, 3]',\n",
       " '[8, 5]',\n",
       " '[0, 4]',\n",
       " '[3, 8]',\n",
       " '[3, 7]',\n",
       " '[8, 3]',\n",
       " '[2, 5]',\n",
       " '[9, 8]',\n",
       " '[4, 3]',\n",
       " '[7, 0]',\n",
       " '[4, 5]',\n",
       " '[9, 4]',\n",
       " '[1, 8]',\n",
       " '[4, 1]',\n",
       " '[1, 9]',\n",
       " '[0, 8]',\n",
       " '[4, 9]',\n",
       " '[8, 3]',\n",
       " '[4, 9]',\n",
       " '[9, 3]',\n",
       " '[8]',\n",
       " '[1, 8]',\n",
       " '[0, 2]',\n",
       " '[1, 2]',\n",
       " '[2, 6]',\n",
       " '[9, 6]',\n",
       " '[9, 2]',\n",
       " '[1, 7]',\n",
       " '[2, 9]',\n",
       " '[2, 9]',\n",
       " '[0, 7]',\n",
       " '[9, 0]',\n",
       " '[4, 3]',\n",
       " '[7, 6]',\n",
       " '[6, 3]',\n",
       " '[8, 4]',\n",
       " '[3, 8]',\n",
       " '[7, 9]',\n",
       " '[4]',\n",
       " '[9, 6]',\n",
       " '[3, 4]',\n",
       " '[7, 4]',\n",
       " '[0]',\n",
       " '[7, 1]',\n",
       " '[8, 3]',\n",
       " '[0, 8]',\n",
       " '[1, 4]',\n",
       " '[5]',\n",
       " '[3, 1]',\n",
       " '[8, 7]',\n",
       " '[7, 0]',\n",
       " '[5, 3]',\n",
       " '[1]',\n",
       " '[9, 4]',\n",
       " '[5, 2]',\n",
       " '[1, 9]',\n",
       " '[7, 5]',\n",
       " '[3, 4]',\n",
       " '[2, 3]',\n",
       " '[7, 3]',\n",
       " '[0, 9]',\n",
       " '[2, 6]',\n",
       " '[9, 2]',\n",
       " '[0, 9]',\n",
       " '[1, 7]',\n",
       " '[0, 3]',\n",
       " '[6, 1]',\n",
       " '[2]',\n",
       " '[9]',\n",
       " '[7, 9]',\n",
       " '[6, 5]',\n",
       " '[7, 1]',\n",
       " '[0]',\n",
       " '[4, 3]',\n",
       " '[3, 1]',\n",
       " '[0, 4]',\n",
       " '[8, 7]',\n",
       " '[2, 4]',\n",
       " '[9, 1]',\n",
       " '[9, 8]',\n",
       " '[0, 6]',\n",
       " '[0, 8]',\n",
       " '[2, 5]',\n",
       " '[0]',\n",
       " '[3, 0]',\n",
       " '[6, 9]',\n",
       " '[0, 8]',\n",
       " '[4, 5]',\n",
       " '[3]',\n",
       " '[2, 4]',\n",
       " '[8, 0]',\n",
       " '[8, 1]',\n",
       " '[4, 3]',\n",
       " '[0, 3]',\n",
       " '[2, 4]',\n",
       " '[4, 9]',\n",
       " '[4, 8]',\n",
       " '[5, 1]',\n",
       " '[2, 9]',\n",
       " '[5, 1]',\n",
       " '[1, 7]',\n",
       " '[9]',\n",
       " '[5, 7]',\n",
       " '[1]',\n",
       " '[9, 7]',\n",
       " '[3, 7]',\n",
       " '[7, 1]',\n",
       " '[0, 7]',\n",
       " '[5, 1]',\n",
       " '[6, 7]',\n",
       " '[3, 2]',\n",
       " '[9, 3]',\n",
       " '[6, 5]',\n",
       " '[2, 1]',\n",
       " '[4, 6]',\n",
       " '[8, 5]',\n",
       " '[1, 9]',\n",
       " '[6, 4]',\n",
       " '[2, 3]',\n",
       " '[4, 7]',\n",
       " '[1, 4]',\n",
       " '[5, 1]',\n",
       " '[7, 6]',\n",
       " '[6, 8]',\n",
       " '[3, 2]',\n",
       " '[6, 3]',\n",
       " '[9, 8]',\n",
       " '[9, 0]',\n",
       " '[9, 5]',\n",
       " '[8, 9]',\n",
       " '[5, 0]',\n",
       " '[2, 7]',\n",
       " '[9, 8]',\n",
       " '[5, 6]',\n",
       " '[6, 0]',\n",
       " '[3, 6]',\n",
       " '[0, 8]',\n",
       " '[8, 0]',\n",
       " '[8, 2]',\n",
       " '[9, 7]',\n",
       " '[4, 7]',\n",
       " '[2, 9]',\n",
       " '[5, 7]',\n",
       " '[4, 7]',\n",
       " '[6, 5]',\n",
       " '[0, 8]',\n",
       " '[3, 9]',\n",
       " '[6]',\n",
       " '[7, 9]',\n",
       " '[9]',\n",
       " '[0, 2]',\n",
       " '[6, 4]',\n",
       " '[8, 6]',\n",
       " '[1, 3]',\n",
       " '[8, 1]',\n",
       " '[5, 1]',\n",
       " '[6, 3]',\n",
       " '[4, 1]',\n",
       " '[5, 4]',\n",
       " '[0]',\n",
       " '[3, 0]',\n",
       " '[4]',\n",
       " '[4, 7]',\n",
       " '[7, 9]',\n",
       " '[6, 1]',\n",
       " '[0, 1]',\n",
       " '[3, 4]',\n",
       " '[4, 3]',\n",
       " '[1, 0]',\n",
       " '[5]',\n",
       " '[1, 3]',\n",
       " '[5, 1]',\n",
       " '[5]',\n",
       " '[1, 7]',\n",
       " '[5, 3]',\n",
       " '[7, 3]',\n",
       " '[5]',\n",
       " '[2]',\n",
       " '[2, 7]',\n",
       " '[2, 3]',\n",
       " '[1, 7]',\n",
       " '[4, 0]',\n",
       " '[0, 8]',\n",
       " '[1, 8]',\n",
       " '[2, 3]',\n",
       " '[9, 7]',\n",
       " '[6, 1]',\n",
       " '[1, 5]',\n",
       " '[0, 4]',\n",
       " '[9, 3]',\n",
       " '[9, 6]',\n",
       " '[3, 8]',\n",
       " '[0, 8]',\n",
       " '[1, 3]',\n",
       " '[1, 9]',\n",
       " '[2, 3]',\n",
       " '[4, 5]',\n",
       " '[4, 0]',\n",
       " '[4, 5]',\n",
       " '[9, 0]',\n",
       " '[3, 9]',\n",
       " '[3, 6]',\n",
       " '[8, 1]',\n",
       " '[3]',\n",
       " '[6, 2]',\n",
       " '[4, 6]',\n",
       " '[6, 2]',\n",
       " '[6, 5]',\n",
       " '[8, 0]',\n",
       " '[2, 7]',\n",
       " '[2, 6]',\n",
       " '[5, 6]',\n",
       " ...]"
      ]
     },
     "execution_count": 4,
     "metadata": {},
     "output_type": "execute_result"
    }
   ],
   "source": [
    "annot_df['classes'].tolist()"
   ]
  },
  {
   "cell_type": "code",
   "execution_count": 5,
   "metadata": {},
   "outputs": [
    {
     "data": {
      "text/plain": [
       "<matplotlib.image.AxesImage at 0x329497750>"
      ]
     },
     "execution_count": 5,
     "metadata": {},
     "output_type": "execute_result"
    },
    {
     "data": {
      "image/png": "[encoded data removed]",
      "text/plain": [
       "<Figure size 640x480 with 1 Axes>"
      ]
     },
     "metadata": {},
     "output_type": "display_data"
    }
   ],
   "source": [
    "tmp = Image.open('/Users/kimhongseok/cv_79_projects/part1/chapter3/2/data/images/image_7.jpg').convert('RGB')\n",
    "plt.imshow(tmp)"
   ]
  },
  {
   "cell_type": "markdown",
   "metadata": {},
   "source": [
    "# dataset, dataloader"
   ]
  },
  {
   "cell_type": "code",
   "execution_count": 6,
   "metadata": {},
   "outputs": [],
   "source": [
    "class CustomDataset(torch.utils.data.Dataset):\n",
    "    def __init__(self, annot_df, transforms, class_list, root_path):\n",
    "        super().__init__()\n",
    "        self.data = [list(annot_df['filename'].tolist()), list(annot_df['classes'].tolist())]\n",
    "        self.transforms = transforms\n",
    "        self.class_list = class_list\n",
    "        self.root_path = root_path\n",
    "\n",
    "    def __len__(self):\n",
    "        return len(self.data[0])\n",
    "    \n",
    "    def __getitem__(self, idx):\n",
    "        img_path = os.path.join(self.root_path, self.data[0][idx])\n",
    "        img = Image.open(img_path).convert('RGB')\n",
    "        img = self.transforms(img)\n",
    "        cls = self.data[1][idx]\n",
    "        cls = cls.replace('[', '')\n",
    "        cls = cls.replace(']', '')\n",
    "        cls = cls.split(',')\n",
    "        cls = [int(c) for c in cls]\n",
    "        cls = torch.nn.functional.one_hot(torch.tensor(cls), len(self.class_list)).sum(dim=0).to(torch.float)\n",
    "        \n",
    "        return img, cls"
   ]
  },
  {
   "cell_type": "code",
   "execution_count": 7,
   "metadata": {},
   "outputs": [],
   "source": [
    "transforms = T.Compose([\n",
    "    T.ToTensor()\n",
    "])\n",
    "class_list = [i for i in range(10)]\n",
    "root_path = '/Users/kimhongseok/cv_79_projects/part1/chapter3/2/data/images'\n",
    "\n",
    "total_dataset = CustomDataset(annot_df, transforms, class_list, root_path)"
   ]
  },
  {
   "cell_type": "code",
   "execution_count": 8,
   "metadata": {},
   "outputs": [
    {
     "data": {
      "text/plain": [
       "tensor([0., 0., 0., 1., 0., 1., 0., 0., 0., 0.])"
      ]
     },
     "execution_count": 8,
     "metadata": {},
     "output_type": "execute_result"
    },
    {
     "data": {
      "image/png": "[encoded data removed]",
      "text/plain": [
       "<Figure size 640x480 with 1 Axes>"
      ]
     },
     "metadata": {},
     "output_type": "display_data"
    }
   ],
   "source": [
    "plt.imshow(total_dataset[0][0].permute(1, 2, 0))\n",
    "total_dataset[0][1]"
   ]
  },
  {
   "cell_type": "code",
   "execution_count": 9,
   "metadata": {},
   "outputs": [
    {
     "name": "stdout",
     "output_type": "stream",
     "text": [
      "2000\n",
      "1600 200 200\n"
     ]
    }
   ],
   "source": [
    "total_num = len(total_dataset)\n",
    "print(total_num)\n",
    "train_num, valid_num, test_num = int(total_num*0.8), int(total_num*0.1), int(total_num*0.1)\n",
    "\n",
    "train_dataset, valid_dataset, test_dataset = torch.utils.data.random_split(total_dataset, [train_num, valid_num, test_num])\n",
    "print(len(train_dataset), len(valid_dataset), len(test_dataset))"
   ]
  },
  {
   "cell_type": "code",
   "execution_count": 10,
   "metadata": {},
   "outputs": [],
   "source": [
    "train_dataloader = torch.utils.data.DataLoader(train_dataset, batch_size=50, shuffle=True)\n",
    "valid_dataloader = torch.utils.data.DataLoader(valid_dataset, batch_size=50, shuffle=False)\n",
    "test_dataloader = torch.utils.data.DataLoader(test_dataset, batch_size=50, shuffle=False)"
   ]
  },
  {
   "cell_type": "markdown",
   "metadata": {},
   "source": [
    "# train, eval"
   ]
  },
  {
   "cell_type": "code",
   "execution_count": 11,
   "metadata": {},
   "outputs": [],
   "source": [
    "def training(model, train_dataloader, criterion, optimizer, threshold, epoch, num_epochs):\n",
    "    model.train()\n",
    "    train_loss = 0.0\n",
    "    total_labels = []\n",
    "    total_preds = []\n",
    "\n",
    "    tbar = tqdm(train_dataloader)\n",
    "    for images, labels in tbar:\n",
    "        images, labels = images.to(device), labels.to(device)\n",
    "        outputs = model(images)\n",
    "        preds = (torch.sigmoid(outputs) > threshold).float()\n",
    "        loss = criterion(outputs, labels)\n",
    "\n",
    "        optimizer.zero_grad()\n",
    "        loss.backward()\n",
    "        optimizer.step()\n",
    "\n",
    "        train_loss += loss.item()\n",
    "\n",
    "        total_labels.extend(labels.cpu().numpy())\n",
    "        total_preds.extend(preds.cpu().numpy())\n",
    "\n",
    "        tbar.set_description(f'Epoch/Epochs [{epoch+1}/{num_epochs}] Loss: {loss.item():.4f}')\n",
    "\n",
    "    train_loss /= len(train_dataloader)\n",
    "    train_f1_score = f1_score(total_labels, total_preds, average='macro')\n",
    "\n",
    "    return model, train_loss, train_f1_score\n",
    "\n",
    "def evaluation(model, valid_dataloader, criterion, threshold, epoch, num_epochs):\n",
    "    model.eval()\n",
    "    valid_loss = 0.0\n",
    "    total_labels = []\n",
    "    total_preds = []\n",
    "\n",
    "    with torch.no_grad():\n",
    "        tbar = tqdm(valid_dataloader)\n",
    "        for images, labels in tbar:\n",
    "            images, labels = images.to(device), labels.to(device)\n",
    "            outputs = model(images)\n",
    "            preds = (torch.sigmoid(outputs)>threshold).float()\n",
    "            loss = criterion(outputs, labels)\n",
    "\n",
    "            total_labels.extend(labels.cpu().numpy())\n",
    "            total_preds.extend(preds.cpu().numpy())\n",
    "\n",
    "            tbar.set_description(f'Epoch/Epochs [{epoch+1}/{num_epochs}] Loss: {loss.item():.4f}')\n",
    "\n",
    "    valid_loss /= len(valid_dataloader)\n",
    "    valid_f1_score = f1_score(total_labels, total_preds, average='macro')\n",
    "\n",
    "    return model, valid_loss, valid_f1_score\n",
    "\n",
    "def training_loop(model, train_dataloader, valid_dataloader, criterion, optimizer, threshold, num_epochs):\n",
    "    model.to(device)\n",
    "    for epoch in range(num_epochs):\n",
    "        model, train_loss, train_f1_score = training(model, train_dataloader, criterion, optimizer, threshold, epoch, num_epochs)\n",
    "        model, valid_loss, valid_f1_score = evaluation(model, valid_dataloader, criterion, threshold, epoch, num_epochs)\n",
    "\n",
    "        print(f'Train Loss: {train_loss}, Train F1 Score: {train_f1_score}, Valid Loss: {valid_loss}, Valid F1 Score: {valid_f1_score}')\n",
    "\n",
    "    return model"
   ]
  },
  {
   "cell_type": "markdown",
   "metadata": {},
   "source": [
    "# model"
   ]
  },
  {
   "cell_type": "code",
   "execution_count": 12,
   "metadata": {},
   "outputs": [
    {
     "data": {
      "text/plain": [
       "ResNet(\n",
       "  (conv1): Conv2d(3, 64, kernel_size=(7, 7), stride=(2, 2), padding=(3, 3), bias=False)\n",
       "  (bn1): BatchNorm2d(64, eps=1e-05, momentum=0.1, affine=True, track_running_stats=True)\n",
       "  (act1): ReLU(inplace=True)\n",
       "  (maxpool): MaxPool2d(kernel_size=3, stride=2, padding=1, dilation=1, ceil_mode=False)\n",
       "  (layer1): Sequential(\n",
       "    (0): BasicBlock(\n",
       "      (conv1): Conv2d(64, 64, kernel_size=(3, 3), stride=(1, 1), padding=(1, 1), bias=False)\n",
       "      (bn1): BatchNorm2d(64, eps=1e-05, momentum=0.1, affine=True, track_running_stats=True)\n",
       "      (drop_block): Identity()\n",
       "      (act1): ReLU(inplace=True)\n",
       "      (aa): Identity()\n",
       "      (conv2): Conv2d(64, 64, kernel_size=(3, 3), stride=(1, 1), padding=(1, 1), bias=False)\n",
       "      (bn2): BatchNorm2d(64, eps=1e-05, momentum=0.1, affine=True, track_running_stats=True)\n",
       "      (act2): ReLU(inplace=True)\n",
       "    )\n",
       "    (1): BasicBlock(\n",
       "      (conv1): Conv2d(64, 64, kernel_size=(3, 3), stride=(1, 1), padding=(1, 1), bias=False)\n",
       "      (bn1): BatchNorm2d(64, eps=1e-05, momentum=0.1, affine=True, track_running_stats=True)\n",
       "      (drop_block): Identity()\n",
       "      (act1): ReLU(inplace=True)\n",
       "      (aa): Identity()\n",
       "      (conv2): Conv2d(64, 64, kernel_size=(3, 3), stride=(1, 1), padding=(1, 1), bias=False)\n",
       "      (bn2): BatchNorm2d(64, eps=1e-05, momentum=0.1, affine=True, track_running_stats=True)\n",
       "      (act2): ReLU(inplace=True)\n",
       "    )\n",
       "  )\n",
       "  (layer2): Sequential(\n",
       "    (0): BasicBlock(\n",
       "      (conv1): Conv2d(64, 128, kernel_size=(3, 3), stride=(2, 2), padding=(1, 1), bias=False)\n",
       "      (bn1): BatchNorm2d(128, eps=1e-05, momentum=0.1, affine=True, track_running_stats=True)\n",
       "      (drop_block): Identity()\n",
       "      (act1): ReLU(inplace=True)\n",
       "      (aa): Identity()\n",
       "      (conv2): Conv2d(128, 128, kernel_size=(3, 3), stride=(1, 1), padding=(1, 1), bias=False)\n",
       "      (bn2): BatchNorm2d(128, eps=1e-05, momentum=0.1, affine=True, track_running_stats=True)\n",
       "      (act2): ReLU(inplace=True)\n",
       "      (downsample): Sequential(\n",
       "        (0): Conv2d(64, 128, kernel_size=(1, 1), stride=(2, 2), bias=False)\n",
       "        (1): BatchNorm2d(128, eps=1e-05, momentum=0.1, affine=True, track_running_stats=True)\n",
       "      )\n",
       "    )\n",
       "    (1): BasicBlock(\n",
       "      (conv1): Conv2d(128, 128, kernel_size=(3, 3), stride=(1, 1), padding=(1, 1), bias=False)\n",
       "      (bn1): BatchNorm2d(128, eps=1e-05, momentum=0.1, affine=True, track_running_stats=True)\n",
       "      (drop_block): Identity()\n",
       "      (act1): ReLU(inplace=True)\n",
       "      (aa): Identity()\n",
       "      (conv2): Conv2d(128, 128, kernel_size=(3, 3), stride=(1, 1), padding=(1, 1), bias=False)\n",
       "      (bn2): BatchNorm2d(128, eps=1e-05, momentum=0.1, affine=True, track_running_stats=True)\n",
       "      (act2): ReLU(inplace=True)\n",
       "    )\n",
       "  )\n",
       "  (layer3): Sequential(\n",
       "    (0): BasicBlock(\n",
       "      (conv1): Conv2d(128, 256, kernel_size=(3, 3), stride=(2, 2), padding=(1, 1), bias=False)\n",
       "      (bn1): BatchNorm2d(256, eps=1e-05, momentum=0.1, affine=True, track_running_stats=True)\n",
       "      (drop_block): Identity()\n",
       "      (act1): ReLU(inplace=True)\n",
       "      (aa): Identity()\n",
       "      (conv2): Conv2d(256, 256, kernel_size=(3, 3), stride=(1, 1), padding=(1, 1), bias=False)\n",
       "      (bn2): BatchNorm2d(256, eps=1e-05, momentum=0.1, affine=True, track_running_stats=True)\n",
       "      (act2): ReLU(inplace=True)\n",
       "      (downsample): Sequential(\n",
       "        (0): Conv2d(128, 256, kernel_size=(1, 1), stride=(2, 2), bias=False)\n",
       "        (1): BatchNorm2d(256, eps=1e-05, momentum=0.1, affine=True, track_running_stats=True)\n",
       "      )\n",
       "    )\n",
       "    (1): BasicBlock(\n",
       "      (conv1): Conv2d(256, 256, kernel_size=(3, 3), stride=(1, 1), padding=(1, 1), bias=False)\n",
       "      (bn1): BatchNorm2d(256, eps=1e-05, momentum=0.1, affine=True, track_running_stats=True)\n",
       "      (drop_block): Identity()\n",
       "      (act1): ReLU(inplace=True)\n",
       "      (aa): Identity()\n",
       "      (conv2): Conv2d(256, 256, kernel_size=(3, 3), stride=(1, 1), padding=(1, 1), bias=False)\n",
       "      (bn2): BatchNorm2d(256, eps=1e-05, momentum=0.1, affine=True, track_running_stats=True)\n",
       "      (act2): ReLU(inplace=True)\n",
       "    )\n",
       "  )\n",
       "  (layer4): Sequential(\n",
       "    (0): BasicBlock(\n",
       "      (conv1): Conv2d(256, 512, kernel_size=(3, 3), stride=(2, 2), padding=(1, 1), bias=False)\n",
       "      (bn1): BatchNorm2d(512, eps=1e-05, momentum=0.1, affine=True, track_running_stats=True)\n",
       "      (drop_block): Identity()\n",
       "      (act1): ReLU(inplace=True)\n",
       "      (aa): Identity()\n",
       "      (conv2): Conv2d(512, 512, kernel_size=(3, 3), stride=(1, 1), padding=(1, 1), bias=False)\n",
       "      (bn2): BatchNorm2d(512, eps=1e-05, momentum=0.1, affine=True, track_running_stats=True)\n",
       "      (act2): ReLU(inplace=True)\n",
       "      (downsample): Sequential(\n",
       "        (0): Conv2d(256, 512, kernel_size=(1, 1), stride=(2, 2), bias=False)\n",
       "        (1): BatchNorm2d(512, eps=1e-05, momentum=0.1, affine=True, track_running_stats=True)\n",
       "      )\n",
       "    )\n",
       "    (1): BasicBlock(\n",
       "      (conv1): Conv2d(512, 512, kernel_size=(3, 3), stride=(1, 1), padding=(1, 1), bias=False)\n",
       "      (bn1): BatchNorm2d(512, eps=1e-05, momentum=0.1, affine=True, track_running_stats=True)\n",
       "      (drop_block): Identity()\n",
       "      (act1): ReLU(inplace=True)\n",
       "      (aa): Identity()\n",
       "      (conv2): Conv2d(512, 512, kernel_size=(3, 3), stride=(1, 1), padding=(1, 1), bias=False)\n",
       "      (bn2): BatchNorm2d(512, eps=1e-05, momentum=0.1, affine=True, track_running_stats=True)\n",
       "      (act2): ReLU(inplace=True)\n",
       "    )\n",
       "  )\n",
       "  (global_pool): SelectAdaptivePool2d (pool_type=avg, flatten=Flatten(start_dim=1, end_dim=-1))\n",
       "  (fc): Linear(in_features=512, out_features=10, bias=True)\n",
       ")"
      ]
     },
     "execution_count": 12,
     "metadata": {},
     "output_type": "execute_result"
    }
   ],
   "source": [
    "model = timm.create_model(\n",
    "    'resnet18',\n",
    "    num_classes=10,\n",
    "    pretrained=True\n",
    ")\n",
    "model"
   ]
  },
  {
   "cell_type": "code",
   "execution_count": 13,
   "metadata": {},
   "outputs": [
    {
     "data": {
      "text/plain": [
       "'\\nfor parameter in model.parameters():\\n    parameter.requires_grad = False\\n\\nfor parameter in model.layer4.parameters():\\n    parameter.requires_grad = True\\n\\nfor parameter in model.fc.parameters():\\n    parameter.requires_grad = True\\n'"
      ]
     },
     "execution_count": 13,
     "metadata": {},
     "output_type": "execute_result"
    }
   ],
   "source": [
    "'''\n",
    "for parameter in model.parameters():\n",
    "    parameter.requires_grad = False\n",
    "\n",
    "for parameter in model.layer4.parameters():\n",
    "    parameter.requires_grad = True\n",
    "\n",
    "for parameter in model.fc.parameters():\n",
    "    parameter.requires_grad = True\n",
    "'''"
   ]
  },
  {
   "cell_type": "markdown",
   "metadata": {},
   "source": [
    "# 학습"
   ]
  },
  {
   "cell_type": "code",
   "execution_count": 14,
   "metadata": {},
   "outputs": [
    {
     "data": {
      "application/vnd.jupyter.widget-view+json": {
       "model_id": "51db92892a1e4dd5b5f46cd9af632096",
       "version_major": 2,
       "version_minor": 0
      },
      "text/plain": [
       "  0%|          | 0/32 [00:00<?, ?it/s]"
      ]
     },
     "metadata": {},
     "output_type": "display_data"
    },
    {
     "data": {
      "application/vnd.jupyter.widget-view+json": {
       "model_id": "9db63dfa54ce4e9bb5a3d6b15d704569",
       "version_major": 2,
       "version_minor": 0
      },
      "text/plain": [
       "  0%|          | 0/4 [00:00<?, ?it/s]"
      ]
     },
     "metadata": {},
     "output_type": "display_data"
    },
    {
     "name": "stdout",
     "output_type": "stream",
     "text": [
      "Train Loss: 0.49964133743196726, Train F1 Score: 0.12887077260731108, Valid Loss: 0.0, Valid F1 Score: 0.11750878965256373\n"
     ]
    },
    {
     "data": {
      "application/vnd.jupyter.widget-view+json": {
       "model_id": "5bad019b66a24724ad4aec733af2b13c",
       "version_major": 2,
       "version_minor": 0
      },
      "text/plain": [
       "  0%|          | 0/32 [00:00<?, ?it/s]"
      ]
     },
     "metadata": {},
     "output_type": "display_data"
    },
    {
     "data": {
      "application/vnd.jupyter.widget-view+json": {
       "model_id": "f8f16f82ae0740ae9ddbdac047937a71",
       "version_major": 2,
       "version_minor": 0
      },
      "text/plain": [
       "  0%|          | 0/4 [00:00<?, ?it/s]"
      ]
     },
     "metadata": {},
     "output_type": "display_data"
    },
    {
     "name": "stdout",
     "output_type": "stream",
     "text": [
      "Train Loss: 0.3134500361047685, Train F1 Score: 0.4654719182139072, Valid Loss: 0.0, Valid F1 Score: 0.5735198545020631\n"
     ]
    },
    {
     "data": {
      "application/vnd.jupyter.widget-view+json": {
       "model_id": "3f85072cd02f4a9a87de2b3dc964ce74",
       "version_major": 2,
       "version_minor": 0
      },
      "text/plain": [
       "  0%|          | 0/32 [00:00<?, ?it/s]"
      ]
     },
     "metadata": {},
     "output_type": "display_data"
    },
    {
     "data": {
      "application/vnd.jupyter.widget-view+json": {
       "model_id": "38766b7bfc3b4a6fb9bf697e121c8cf6",
       "version_major": 2,
       "version_minor": 0
      },
      "text/plain": [
       "  0%|          | 0/4 [00:00<?, ?it/s]"
      ]
     },
     "metadata": {},
     "output_type": "display_data"
    },
    {
     "name": "stdout",
     "output_type": "stream",
     "text": [
      "Train Loss: 0.18188825016841292, Train F1 Score: 0.7836455648527038, Valid Loss: 0.0, Valid F1 Score: 0.799319298940558\n"
     ]
    },
    {
     "data": {
      "application/vnd.jupyter.widget-view+json": {
       "model_id": "80c1db7fa29b473f8460eb217021ec19",
       "version_major": 2,
       "version_minor": 0
      },
      "text/plain": [
       "  0%|          | 0/32 [00:00<?, ?it/s]"
      ]
     },
     "metadata": {},
     "output_type": "display_data"
    },
    {
     "data": {
      "application/vnd.jupyter.widget-view+json": {
       "model_id": "3edd6d960a81447fae27e99f47fd1ad3",
       "version_major": 2,
       "version_minor": 0
      },
      "text/plain": [
       "  0%|          | 0/4 [00:00<?, ?it/s]"
      ]
     },
     "metadata": {},
     "output_type": "display_data"
    },
    {
     "name": "stdout",
     "output_type": "stream",
     "text": [
      "Train Loss: 0.0970558007247746, Train F1 Score: 0.9124139476594623, Valid Loss: 0.0, Valid F1 Score: 0.8681002534046529\n"
     ]
    },
    {
     "data": {
      "application/vnd.jupyter.widget-view+json": {
       "model_id": "d17aace2348c4a2b9e43ac2a6c74d9bb",
       "version_major": 2,
       "version_minor": 0
      },
      "text/plain": [
       "  0%|          | 0/32 [00:00<?, ?it/s]"
      ]
     },
     "metadata": {},
     "output_type": "display_data"
    },
    {
     "data": {
      "application/vnd.jupyter.widget-view+json": {
       "model_id": "c22868ba9f184fd78dffae431a914b45",
       "version_major": 2,
       "version_minor": 0
      },
      "text/plain": [
       "  0%|          | 0/4 [00:00<?, ?it/s]"
      ]
     },
     "metadata": {},
     "output_type": "display_data"
    },
    {
     "name": "stdout",
     "output_type": "stream",
     "text": [
      "Train Loss: 0.04869267309550196, Train F1 Score: 0.9666044078637098, Valid Loss: 0.0, Valid F1 Score: 0.9139969251336693\n"
     ]
    },
    {
     "data": {
      "application/vnd.jupyter.widget-view+json": {
       "model_id": "dda49d86df574868ba553bd67e003cc5",
       "version_major": 2,
       "version_minor": 0
      },
      "text/plain": [
       "  0%|          | 0/32 [00:00<?, ?it/s]"
      ]
     },
     "metadata": {},
     "output_type": "display_data"
    },
    {
     "data": {
      "application/vnd.jupyter.widget-view+json": {
       "model_id": "a33defc83c594534a8c9450d3b19f28e",
       "version_major": 2,
       "version_minor": 0
      },
      "text/plain": [
       "  0%|          | 0/4 [00:00<?, ?it/s]"
      ]
     },
     "metadata": {},
     "output_type": "display_data"
    },
    {
     "name": "stdout",
     "output_type": "stream",
     "text": [
      "Train Loss: 0.027902085741516203, Train F1 Score: 0.9849472791975267, Valid Loss: 0.0, Valid F1 Score: 0.913152031468527\n"
     ]
    },
    {
     "data": {
      "application/vnd.jupyter.widget-view+json": {
       "model_id": "7833497b1bbb4c3fb43dbba7833dbd0e",
       "version_major": 2,
       "version_minor": 0
      },
      "text/plain": [
       "  0%|          | 0/32 [00:00<?, ?it/s]"
      ]
     },
     "metadata": {},
     "output_type": "display_data"
    },
    {
     "data": {
      "application/vnd.jupyter.widget-view+json": {
       "model_id": "85eb3301635645ceb5b1119fc548a819",
       "version_major": 2,
       "version_minor": 0
      },
      "text/plain": [
       "  0%|          | 0/4 [00:00<?, ?it/s]"
      ]
     },
     "metadata": {},
     "output_type": "display_data"
    },
    {
     "name": "stdout",
     "output_type": "stream",
     "text": [
      "Train Loss: 0.01942744063853752, Train F1 Score: 0.9890964882724799, Valid Loss: 0.0, Valid F1 Score: 0.9223917406041637\n"
     ]
    },
    {
     "data": {
      "application/vnd.jupyter.widget-view+json": {
       "model_id": "505234cede204d19b9f01b6fcf15b0a8",
       "version_major": 2,
       "version_minor": 0
      },
      "text/plain": [
       "  0%|          | 0/32 [00:00<?, ?it/s]"
      ]
     },
     "metadata": {},
     "output_type": "display_data"
    },
    {
     "data": {
      "application/vnd.jupyter.widget-view+json": {
       "model_id": "2562d85db8e7414489e44a1bde8b04d7",
       "version_major": 2,
       "version_minor": 0
      },
      "text/plain": [
       "  0%|          | 0/4 [00:00<?, ?it/s]"
      ]
     },
     "metadata": {},
     "output_type": "display_data"
    },
    {
     "name": "stdout",
     "output_type": "stream",
     "text": [
      "Train Loss: 0.015097505529411137, Train F1 Score: 0.9925323426367211, Valid Loss: 0.0, Valid F1 Score: 0.9330968526574239\n"
     ]
    },
    {
     "data": {
      "application/vnd.jupyter.widget-view+json": {
       "model_id": "8f4985755cf74858abc13af8861d13ea",
       "version_major": 2,
       "version_minor": 0
      },
      "text/plain": [
       "  0%|          | 0/32 [00:00<?, ?it/s]"
      ]
     },
     "metadata": {},
     "output_type": "display_data"
    },
    {
     "data": {
      "application/vnd.jupyter.widget-view+json": {
       "model_id": "7c43658ffe0e4437ae2df7abe43f3e3f",
       "version_major": 2,
       "version_minor": 0
      },
      "text/plain": [
       "  0%|          | 0/4 [00:00<?, ?it/s]"
      ]
     },
     "metadata": {},
     "output_type": "display_data"
    },
    {
     "name": "stdout",
     "output_type": "stream",
     "text": [
      "Train Loss: 0.011173180311743636, Train F1 Score: 0.9948102232511082, Valid Loss: 0.0, Valid F1 Score: 0.9273922470631506\n"
     ]
    },
    {
     "data": {
      "application/vnd.jupyter.widget-view+json": {
       "model_id": "dbb0c3e989d54186a642b289543c3ea5",
       "version_major": 2,
       "version_minor": 0
      },
      "text/plain": [
       "  0%|          | 0/32 [00:00<?, ?it/s]"
      ]
     },
     "metadata": {},
     "output_type": "display_data"
    },
    {
     "data": {
      "application/vnd.jupyter.widget-view+json": {
       "model_id": "ce8e7ccf76bb4c43a37b3da292fb79fd",
       "version_major": 2,
       "version_minor": 0
      },
      "text/plain": [
       "  0%|          | 0/4 [00:00<?, ?it/s]"
      ]
     },
     "metadata": {},
     "output_type": "display_data"
    },
    {
     "name": "stdout",
     "output_type": "stream",
     "text": [
      "Train Loss: 0.01245222102443222, Train F1 Score: 0.9923014034512796, Valid Loss: 0.0, Valid F1 Score: 0.9437237268231664\n"
     ]
    },
    {
     "data": {
      "application/vnd.jupyter.widget-view+json": {
       "model_id": "3815c05d03dc40439059c61682e6024d",
       "version_major": 2,
       "version_minor": 0
      },
      "text/plain": [
       "  0%|          | 0/32 [00:00<?, ?it/s]"
      ]
     },
     "metadata": {},
     "output_type": "display_data"
    },
    {
     "data": {
      "application/vnd.jupyter.widget-view+json": {
       "model_id": "3a2fb717bff940d0b5ca3b1b9de06d3e",
       "version_major": 2,
       "version_minor": 0
      },
      "text/plain": [
       "  0%|          | 0/4 [00:00<?, ?it/s]"
      ]
     },
     "metadata": {},
     "output_type": "display_data"
    },
    {
     "name": "stdout",
     "output_type": "stream",
     "text": [
      "Train Loss: 0.007118973895558156, Train F1 Score: 0.9972215899860519, Valid Loss: 0.0, Valid F1 Score: 0.9492779889077909\n"
     ]
    },
    {
     "data": {
      "application/vnd.jupyter.widget-view+json": {
       "model_id": "53a87a814cb44ccb8f17a675761392c4",
       "version_major": 2,
       "version_minor": 0
      },
      "text/plain": [
       "  0%|          | 0/32 [00:00<?, ?it/s]"
      ]
     },
     "metadata": {},
     "output_type": "display_data"
    },
    {
     "data": {
      "application/vnd.jupyter.widget-view+json": {
       "model_id": "1db6823c23ee4fdaa3f3f646fdfa1df8",
       "version_major": 2,
       "version_minor": 0
      },
      "text/plain": [
       "  0%|          | 0/4 [00:00<?, ?it/s]"
      ]
     },
     "metadata": {},
     "output_type": "display_data"
    },
    {
     "name": "stdout",
     "output_type": "stream",
     "text": [
      "Train Loss: 0.007453953614458442, Train F1 Score: 0.995973552583623, Valid Loss: 0.0, Valid F1 Score: 0.9539081982084433\n"
     ]
    },
    {
     "data": {
      "application/vnd.jupyter.widget-view+json": {
       "model_id": "6dff94976daf47a1827233a645c29511",
       "version_major": 2,
       "version_minor": 0
      },
      "text/plain": [
       "  0%|          | 0/32 [00:00<?, ?it/s]"
      ]
     },
     "metadata": {},
     "output_type": "display_data"
    },
    {
     "data": {
      "application/vnd.jupyter.widget-view+json": {
       "model_id": "d1d1a32ebc2d4e369b9ea44c231315d8",
       "version_major": 2,
       "version_minor": 0
      },
      "text/plain": [
       "  0%|          | 0/4 [00:00<?, ?it/s]"
      ]
     },
     "metadata": {},
     "output_type": "display_data"
    },
    {
     "name": "stdout",
     "output_type": "stream",
     "text": [
      "Train Loss: 0.004964576997736003, Train F1 Score: 0.9974925069247925, Valid Loss: 0.0, Valid F1 Score: 0.9509855389098828\n"
     ]
    },
    {
     "data": {
      "application/vnd.jupyter.widget-view+json": {
       "model_id": "06f8d6de5298448d9dab794ab80ebc36",
       "version_major": 2,
       "version_minor": 0
      },
      "text/plain": [
       "  0%|          | 0/32 [00:00<?, ?it/s]"
      ]
     },
     "metadata": {},
     "output_type": "display_data"
    },
    {
     "data": {
      "application/vnd.jupyter.widget-view+json": {
       "model_id": "b4315c8b38414bbdb1ea75ade8b3ac8e",
       "version_major": 2,
       "version_minor": 0
      },
      "text/plain": [
       "  0%|          | 0/4 [00:00<?, ?it/s]"
      ]
     },
     "metadata": {},
     "output_type": "display_data"
    },
    {
     "name": "stdout",
     "output_type": "stream",
     "text": [
      "Train Loss: 0.004849943034059834, Train F1 Score: 0.9973827475853104, Valid Loss: 0.0, Valid F1 Score: 0.9558828136369717\n"
     ]
    },
    {
     "data": {
      "application/vnd.jupyter.widget-view+json": {
       "model_id": "75e104ab6e4b445ab8310a88e0777035",
       "version_major": 2,
       "version_minor": 0
      },
      "text/plain": [
       "  0%|          | 0/32 [00:00<?, ?it/s]"
      ]
     },
     "metadata": {},
     "output_type": "display_data"
    },
    {
     "data": {
      "application/vnd.jupyter.widget-view+json": {
       "model_id": "64361b6c37e545c68bc7c97b0c716fc3",
       "version_major": 2,
       "version_minor": 0
      },
      "text/plain": [
       "  0%|          | 0/4 [00:00<?, ?it/s]"
      ]
     },
     "metadata": {},
     "output_type": "display_data"
    },
    {
     "name": "stdout",
     "output_type": "stream",
     "text": [
      "Train Loss: 0.00470377691090107, Train F1 Score: 0.9980920924546608, Valid Loss: 0.0, Valid F1 Score: 0.949921944129404\n"
     ]
    },
    {
     "data": {
      "application/vnd.jupyter.widget-view+json": {
       "model_id": "f2c6da0344014b7d961a7237f5c4c238",
       "version_major": 2,
       "version_minor": 0
      },
      "text/plain": [
       "  0%|          | 0/32 [00:00<?, ?it/s]"
      ]
     },
     "metadata": {},
     "output_type": "display_data"
    },
    {
     "data": {
      "application/vnd.jupyter.widget-view+json": {
       "model_id": "b6bcd77169da48da81dea3746e5e29e9",
       "version_major": 2,
       "version_minor": 0
      },
      "text/plain": [
       "  0%|          | 0/4 [00:00<?, ?it/s]"
      ]
     },
     "metadata": {},
     "output_type": "display_data"
    },
    {
     "name": "stdout",
     "output_type": "stream",
     "text": [
      "Train Loss: 0.00700576689268928, Train F1 Score: 0.9949231608281446, Valid Loss: 0.0, Valid F1 Score: 0.9553122178717255\n"
     ]
    },
    {
     "data": {
      "application/vnd.jupyter.widget-view+json": {
       "model_id": "81a274ba72f84812bcbf03e923385e91",
       "version_major": 2,
       "version_minor": 0
      },
      "text/plain": [
       "  0%|          | 0/32 [00:00<?, ?it/s]"
      ]
     },
     "metadata": {},
     "output_type": "display_data"
    },
    {
     "data": {
      "application/vnd.jupyter.widget-view+json": {
       "model_id": "49ec283db6ea4654945c4616998ee036",
       "version_major": 2,
       "version_minor": 0
      },
      "text/plain": [
       "  0%|          | 0/4 [00:00<?, ?it/s]"
      ]
     },
     "metadata": {},
     "output_type": "display_data"
    },
    {
     "name": "stdout",
     "output_type": "stream",
     "text": [
      "Train Loss: 0.0038035133511584718, Train F1 Score: 0.9980153048552365, Valid Loss: 0.0, Valid F1 Score: 0.9523264926155978\n"
     ]
    },
    {
     "data": {
      "application/vnd.jupyter.widget-view+json": {
       "model_id": "303d029f3169448f8db538334e49d1ae",
       "version_major": 2,
       "version_minor": 0
      },
      "text/plain": [
       "  0%|          | 0/32 [00:00<?, ?it/s]"
      ]
     },
     "metadata": {},
     "output_type": "display_data"
    },
    {
     "data": {
      "application/vnd.jupyter.widget-view+json": {
       "model_id": "c0952eab8ea6498299c16fb72142d5c5",
       "version_major": 2,
       "version_minor": 0
      },
      "text/plain": [
       "  0%|          | 0/4 [00:00<?, ?it/s]"
      ]
     },
     "metadata": {},
     "output_type": "display_data"
    },
    {
     "name": "stdout",
     "output_type": "stream",
     "text": [
      "Train Loss: 0.0033991335094469832, Train F1 Score: 0.9985229774099821, Valid Loss: 0.0, Valid F1 Score: 0.9540864563496102\n"
     ]
    },
    {
     "data": {
      "application/vnd.jupyter.widget-view+json": {
       "model_id": "393398ac32ff48129f0372b778888e84",
       "version_major": 2,
       "version_minor": 0
      },
      "text/plain": [
       "  0%|          | 0/32 [00:00<?, ?it/s]"
      ]
     },
     "metadata": {},
     "output_type": "display_data"
    },
    {
     "data": {
      "application/vnd.jupyter.widget-view+json": {
       "model_id": "073c00b0f8834a1fb348215a1551496e",
       "version_major": 2,
       "version_minor": 0
      },
      "text/plain": [
       "  0%|          | 0/4 [00:00<?, ?it/s]"
      ]
     },
     "metadata": {},
     "output_type": "display_data"
    },
    {
     "name": "stdout",
     "output_type": "stream",
     "text": [
      "Train Loss: 0.0027246087665844243, Train F1 Score: 0.998983253241741, Valid Loss: 0.0, Valid F1 Score: 0.9574335969945077\n"
     ]
    },
    {
     "data": {
      "application/vnd.jupyter.widget-view+json": {
       "model_id": "60633b6742dc44c6b0805b04380d657f",
       "version_major": 2,
       "version_minor": 0
      },
      "text/plain": [
       "  0%|          | 0/32 [00:00<?, ?it/s]"
      ]
     },
     "metadata": {},
     "output_type": "display_data"
    },
    {
     "data": {
      "application/vnd.jupyter.widget-view+json": {
       "model_id": "e688ea44b56342f9ba8defdac2ad8f09",
       "version_major": 2,
       "version_minor": 0
      },
      "text/plain": [
       "  0%|          | 0/4 [00:00<?, ?it/s]"
      ]
     },
     "metadata": {},
     "output_type": "display_data"
    },
    {
     "name": "stdout",
     "output_type": "stream",
     "text": [
      "Train Loss: 0.00283587404373975, Train F1 Score: 0.9981976165641997, Valid Loss: 0.0, Valid F1 Score: 0.9566589586413127\n"
     ]
    }
   ],
   "source": [
    "criterion = torch.nn.BCEWithLogitsLoss()\n",
    "optimizer = torch.optim.Adam(model.parameters(), lr=0.001)\n",
    "\n",
    "model = training_loop(model, train_dataloader, valid_dataloader, criterion, optimizer, 0.5, 20)"
   ]
  },
  {
   "cell_type": "markdown",
   "metadata": {},
   "source": [
    "# test"
   ]
  },
  {
   "cell_type": "code",
   "execution_count": 15,
   "metadata": {},
   "outputs": [
    {
     "data": {
      "application/vnd.jupyter.widget-view+json": {
       "model_id": "4de320d87ba149cd999291cf1604bf86",
       "version_major": 2,
       "version_minor": 0
      },
      "text/plain": [
       "  0%|          | 0/4 [00:00<?, ?it/s]"
      ]
     },
     "metadata": {},
     "output_type": "display_data"
    }
   ],
   "source": [
    "model.eval()\n",
    "total_labels = []\n",
    "total_preds = []\n",
    "\n",
    "with torch.no_grad():\n",
    "    tbar = tqdm(test_dataloader)\n",
    "    for images, labels in tbar:\n",
    "        images, labels = images.to(device), labels.to(device)\n",
    "        outputs = model(images)\n",
    "        preds = (torch.sigmoid(outputs)>0.5).float()\n",
    "\n",
    "        total_labels.extend(labels.cpu().numpy())\n",
    "        total_preds.extend(preds.cpu().numpy())"
   ]
  },
  {
   "cell_type": "code",
   "execution_count": 16,
   "metadata": {},
   "outputs": [
    {
     "data": {
      "text/plain": [
       "0.9598179646558004"
      ]
     },
     "execution_count": 16,
     "metadata": {},
     "output_type": "execute_result"
    }
   ],
   "source": [
    "f1_score(total_labels, total_preds, average='macro')"
   ]
  },
  {
   "cell_type": "code",
   "execution_count": 17,
   "metadata": {},
   "outputs": [
    {
     "data": {
      "image/png": "[encoded data removed]",
      "text/plain": [
       "<Figure size 2000x2000 with 20 Axes>"
      ]
     },
     "metadata": {},
     "output_type": "display_data"
    }
   ],
   "source": [
    "plt.figure(figsize=(20, 20))\n",
    "\n",
    "for i in range(20):\n",
    "    plt.subplot(4, 5, i+1)\n",
    "    img = test_dataset[i][0]\n",
    "    plt.imshow(img.permute(1, 2, 0))\n",
    "    label = total_labels[i]\n",
    "    pred = total_preds[i]\n",
    "    plt.title(f'True: {label}\\nPred: {pred}')"
   ]
  }
 ],
 "metadata": {
  "kernelspec": {
   "display_name": "base",
   "language": "python",
   "name": "python3"
  },
  "language_info": {
   "codemirror_mode": {
    "name": "ipython",
    "version": 3
   },
   "file_extension": ".py",
   "mimetype": "text/x-python",
   "name": "python",
   "nbconvert_exporter": "python",
   "pygments_lexer": "ipython3",
   "version": "3.11.7"
  }
 },
 "nbformat": 4,
 "nbformat_minor": 2
}
